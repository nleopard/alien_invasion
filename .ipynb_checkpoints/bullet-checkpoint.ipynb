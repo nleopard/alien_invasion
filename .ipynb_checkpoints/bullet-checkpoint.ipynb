{
 "cells": [
  {
   "cell_type": "code",
   "execution_count": 18,
   "metadata": {},
   "outputs": [],
   "source": [
    "import pygame\n",
    "from pygame.sprite import Sprite"
   ]
  },
  {
   "cell_type": "code",
   "execution_count": 19,
   "metadata": {},
   "outputs": [],
   "source": [
    "class Bullet(Sprite):\n",
    "    \"\"\"A class to manage bullets fired from the ship\"\"\"\n",
    "    \n",
    "    def __init__(self, ai_settings, screen, ship):\n",
    "        \"\"\"Create a bullet object at the ship's current positin\"\"\"\n",
    "        super(Bullet, self).__init__()\n",
    "        self.screen = screen\n",
    "        \n",
    "        # create a bullet rect at (0,0) and then set correct position.\n",
    "        self.rect = pygame.Rect(0,0, ai_settings.bullet_width, ai_settings.bullet_height)\n",
    "        self.rect.centerx = ship.rect.centerx\n",
    "        self.rect.top = ship.rect.top\n",
    "        \n",
    "        # store the bullet's position as a decimal value\n",
    "        self.y = float(self.rect.y)\n",
    "        \n",
    "        self.color = ai_settings.bullet_color\n",
    "        self.speed_factor = ai_settings.bullet_speed_factor\n",
    "    \n",
    "    def update(self):\n",
    "        \"\"\"Move the bullet up the screen\"\"\"\n",
    "        #update the decimal position of the bullet\n",
    "        self.y -= self.speed_factor\n",
    "        #update the rect position\n",
    "        self.rect.y = self.y\n",
    "        \n",
    "    def draw_bullet(self):\n",
    "        \"\"\"Draw the bullet to the screen.\"\"\"\n",
    "        pygame.draw.rect(self.screen, self.color, self.rect)"
   ]
  },
  {
   "cell_type": "code",
   "execution_count": null,
   "metadata": {},
   "outputs": [],
   "source": []
  },
  {
   "cell_type": "code",
   "execution_count": null,
   "metadata": {},
   "outputs": [],
   "source": []
  },
  {
   "cell_type": "code",
   "execution_count": null,
   "metadata": {},
   "outputs": [],
   "source": []
  },
  {
   "cell_type": "code",
   "execution_count": null,
   "metadata": {},
   "outputs": [],
   "source": []
  }
 ],
 "metadata": {
  "kernelspec": {
   "display_name": "Python 3",
   "language": "python",
   "name": "python3"
  },
  "language_info": {
   "codemirror_mode": {
    "name": "ipython",
    "version": 3
   },
   "file_extension": ".py",
   "mimetype": "text/x-python",
   "name": "python",
   "nbconvert_exporter": "python",
   "pygments_lexer": "ipython3",
   "version": "3.8.3"
  }
 },
 "nbformat": 4,
 "nbformat_minor": 4
}
