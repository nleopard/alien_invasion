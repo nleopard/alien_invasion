{
 "cells": [
  {
   "cell_type": "code",
   "execution_count": 15,
   "metadata": {},
   "outputs": [],
   "source": [
    "import sys\n",
    "import pygame"
   ]
  },
  {
   "cell_type": "code",
   "execution_count": 16,
   "metadata": {},
   "outputs": [],
   "source": [
    "def check_events(ship):\n",
    "    '''Respond to keypresses and mouse events'''\n",
    "    for event in pygame.event.get():\n",
    "        if event.type == pygame.QUIT:\n",
    "            sys.exit()\n",
    "        \n",
    "        elif event.type == pygame.KEYDOWN:\n",
    "            if event.key == pygame.K_RIGHT:\n",
    "                #move the ship to the right.\n",
    "                ship.rect.centerx += 1"
   ]
  },
  {
   "cell_type": "code",
   "execution_count": 18,
   "metadata": {},
   "outputs": [],
   "source": [
    "def update_screen(ai_settings, screen, ship):\n",
    "    '''Update images on the screen and flip to the new screen.'''\n",
    "    #redraw teh screen during each pass through the loop.\n",
    "    screen.fill(ai_settings.bg_color)\n",
    "    ship.blitme()\n",
    "    \n",
    "    #make the most recently drawn screen visible.\n",
    "    pygame.display.flip()"
   ]
  },
  {
   "cell_type": "code",
   "execution_count": null,
   "metadata": {},
   "outputs": [],
   "source": []
  }
 ],
 "metadata": {
  "kernelspec": {
   "display_name": "Python 3",
   "language": "python",
   "name": "python3"
  },
  "language_info": {
   "codemirror_mode": {
    "name": "ipython",
    "version": 3
   },
   "file_extension": ".py",
   "mimetype": "text/x-python",
   "name": "python",
   "nbconvert_exporter": "python",
   "pygments_lexer": "ipython3",
   "version": "3.8.3"
  }
 },
 "nbformat": 4,
 "nbformat_minor": 4
}
