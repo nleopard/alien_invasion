{
 "cells": [
  {
   "cell_type": "code",
   "execution_count": 29,
   "metadata": {},
   "outputs": [],
   "source": [
    "import sys\n",
    "import pygame\n",
    "import import_ipynb\n",
    "from bullet import Bullet"
   ]
  },
  {
   "cell_type": "code",
   "execution_count": 30,
   "metadata": {},
   "outputs": [],
   "source": [
    "def check_keydown_events(event, ai_settings, screen, ship, bullets):\n",
    "    \"\"\"Respond to keypresses\"\"\"\n",
    "    if event.key == pygame.K_RIGHT:\n",
    "        ship.moving_right = True\n",
    "    elif event.key == pygame.K_LEFT:\n",
    "        ship.moving_left = True\n",
    "    elif event.key == pygame.K_SPACE:\n",
    "        #create a new bullet and add it to the bullets group.\n",
    "        new_bullet = Bullet(ai_settings, screen, ship)\n",
    "        bullets.add(new_bullet)\n",
    "        \n",
    "\n",
    "def check_keyup_events(event, ship):\n",
    "    \"\"\"Respond to releases\"\"\"\n",
    "    if event.key == pygame.K_RIGHT:\n",
    "        ship.moving_right = False\n",
    "    elif event.key == pygame.K_LEFT:\n",
    "        ship.moving_left = False\n",
    "\n",
    "def check_events(ai_settings, screen, ship, bullets):\n",
    "    '''Respond to keypresses and mouse events'''\n",
    "    for event in pygame.event.get():\n",
    "        if event.type == pygame.QUIT:\n",
    "            sys.exit()\n",
    "        elif event.type == pygame.KEYDOWN:\n",
    "            check_keydown_events(event, ai_settings, screen, ship, bullets)\n",
    "        elif event.type == pygame.KEYUP:\n",
    "            check_keyup_events(event, ship)\n",
    "            "
   ]
  },
  {
   "cell_type": "code",
   "execution_count": 31,
   "metadata": {},
   "outputs": [],
   "source": [
    "def update_screen(ai_settings, screen, ship, bullets):\n",
    "    '''Update images on the screen and flip to the new screen.'''\n",
    "    #redraw the screen during each pass through the loop.\n",
    "    screen.fill(ai_settings.bg_color)\n",
    "    ship.blitme()\n",
    "    \n",
    "    #make the most recently drawn screen visible.\n",
    "    pygame.display.flip()\n",
    "    \n",
    "    #redraw all bullets behind ship and aliens\n",
    "    for bullet in bullets.sprites():\n",
    "        bullet.draw_bullet()"
   ]
  },
  {
   "cell_type": "code",
   "execution_count": null,
   "metadata": {},
   "outputs": [],
   "source": []
  },
  {
   "cell_type": "code",
   "execution_count": null,
   "metadata": {},
   "outputs": [],
   "source": []
  }
 ],
 "metadata": {
  "kernelspec": {
   "display_name": "Python 3",
   "language": "python",
   "name": "python3"
  },
  "language_info": {
   "codemirror_mode": {
    "name": "ipython",
    "version": 3
   },
   "file_extension": ".py",
   "mimetype": "text/x-python",
   "name": "python",
   "nbconvert_exporter": "python",
   "pygments_lexer": "ipython3",
   "version": "3.8.3"
  }
 },
 "nbformat": 4,
 "nbformat_minor": 4
}
