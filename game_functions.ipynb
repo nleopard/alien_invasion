{
 "cells": [
  {
   "cell_type": "code",
   "execution_count": 4,
   "metadata": {},
   "outputs": [],
   "source": [
    "import sys\n",
    "import pygame"
   ]
  },
  {
   "cell_type": "code",
   "execution_count": 5,
   "metadata": {},
   "outputs": [],
   "source": [
    "def check_events(ship):\n",
    "    '''Respond to keypresses and mouse events'''\n",
    "    for event in pygame.event.get():\n",
    "        if event.type == pygame.QUIT:\n",
    "            sys.exit()\n",
    "        \n",
    "        elif event.type == pygame.KEYDOWN:\n",
    "            if event.key == pygame.K_RIGHT:\n",
    "                ship.moving_right = True\n",
    "            elif event.key == pygame.K_LEFT:\n",
    "                ship.moving_left = True\n",
    "                \n",
    "        elif event.type == pygame.KEYUP:\n",
    "            if event.key == pygame.K_RIGHT:\n",
    "                ship.moving_right = False\n",
    "            elif event.key == pygame.K_LEFT:\n",
    "                ship.moving_left = False"
   ]
  },
  {
   "cell_type": "code",
   "execution_count": 6,
   "metadata": {},
   "outputs": [],
   "source": [
    "def update_screen(ai_settings, screen, ship):\n",
    "    '''Update images on the screen and flip to the new screen.'''\n",
    "    #redraw teh screen during each pass through the loop.\n",
    "    screen.fill(ai_settings.bg_color)\n",
    "    ship.blitme()\n",
    "    \n",
    "    #make the most recently drawn screen visible.\n",
    "    pygame.display.flip()"
   ]
  },
  {
   "cell_type": "code",
   "execution_count": null,
   "metadata": {},
   "outputs": [],
   "source": []
  }
 ],
 "metadata": {
  "kernelspec": {
   "display_name": "Python 3",
   "language": "python",
   "name": "python3"
  },
  "language_info": {
   "codemirror_mode": {
    "name": "ipython",
    "version": 3
   },
   "file_extension": ".py",
   "mimetype": "text/x-python",
   "name": "python",
   "nbconvert_exporter": "python",
   "pygments_lexer": "ipython3",
   "version": "3.8.3"
  }
 },
 "nbformat": 4,
 "nbformat_minor": 4
}
