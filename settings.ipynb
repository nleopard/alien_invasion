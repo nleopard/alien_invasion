{
 "cells": [
  {
   "cell_type": "code",
   "execution_count": 3,
   "metadata": {},
   "outputs": [],
   "source": [
    "class Settings():\n",
    "    \"\"\"A class to store all settings for Alien Invasion\"\"\"\n",
    "\n",
    "    def __init__(self):\n",
    "        \"\"\"Initialize the game's settings.\"\"\"\n",
    "        #screen settings\n",
    "        self.screen_width = 1200\n",
    "        self.screen_height = 800\n",
    "        self.bg_color = (230, 230, 230)\n",
    "        \n",
    "        #ship settings\n",
    "        self.ship_speed_factor = 1.5\n",
    "        \n",
    "        #bullet settings\n",
    "        self.bullet_speed_factor = 1\n",
    "        self.bullet_width = 3\n",
    "        self.bullet_height = 15\n",
    "        self.bullet_color = 60, 60, 60\n"
   ]
  },
  {
   "cell_type": "code",
   "execution_count": null,
   "metadata": {},
   "outputs": [],
   "source": []
  },
  {
   "cell_type": "code",
   "execution_count": null,
   "metadata": {},
   "outputs": [],
   "source": []
  }
 ],
 "metadata": {
  "kernelspec": {
   "display_name": "Python 3",
   "language": "python",
   "name": "python3"
  },
  "language_info": {
   "codemirror_mode": {
    "name": "ipython",
    "version": 3
   },
   "file_extension": ".py",
   "mimetype": "text/x-python",
   "name": "python",
   "nbconvert_exporter": "python",
   "pygments_lexer": "ipython3",
   "version": "3.8.3"
  }
 },
 "nbformat": 4,
 "nbformat_minor": 2
}
