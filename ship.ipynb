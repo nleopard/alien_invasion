{
 "cells": [
  {
   "cell_type": "code",
   "execution_count": 9,
   "metadata": {},
   "outputs": [],
   "source": [
    "import pygame"
   ]
  },
  {
   "cell_type": "code",
   "execution_count": 10,
   "metadata": {},
   "outputs": [],
   "source": [
    "class Ship():\n",
    "    \n",
    "    def __init__(self, ai_settings, screen):\n",
    "        \"\"\"Initialize the ship and set its starting position.\"\"\"\n",
    "        self.screen = screen\n",
    "        self.ai_settings = ai_settings\n",
    "        \n",
    "        #load the ship image and get its rect.\n",
    "        self.image = pygame.image.load('images/ship.bmp')\n",
    "        self.rect = self.image.get_rect()\n",
    "        self.screen_rect = screen.get_rect()\n",
    "        \n",
    "        #Start each new ship at the bottom center of the screen.\n",
    "        self.rect.centerx = self.screen_rect.centerx\n",
    "        self.rect.bottom = self.screen_rect.bottom\n",
    "        \n",
    "        # Store a decimal value for the ship's center\n",
    "        self.center = float(self.rect.centerx)\n",
    "        \n",
    "        #movement flag\n",
    "        self.moving_right = False\n",
    "        self.moving_left = False\n",
    "        \n",
    "        \n",
    "    def update(self):\n",
    "        \"\"\"Update the ship's position based on the movement flag.\"\"\"\n",
    "        # Update the ship's center value, not the rect.\n",
    "        if self.moving_right and self.rect.right < self.screen_rect.right:\n",
    "            self.center += self.ai_settings.ship_speed_factor\n",
    "        if self.moving_left and self.rect.left > 0:\n",
    "            self.center -= self.ai_settings.ship_speed_factor\n",
    "            \n",
    "        # Update rect object from self.center.\n",
    "        self.rect.centerx = self.center\n",
    "            \n",
    "    def blitme(self):\n",
    "        \"\"\"Draw the ship at its current location.\"\"\"\n",
    "        self.screen.blit(self.image, self.rect)\n",
    "        "
   ]
  },
  {
   "cell_type": "code",
   "execution_count": 4,
   "metadata": {},
   "outputs": [],
   "source": []
  },
  {
   "cell_type": "code",
   "execution_count": null,
   "metadata": {},
   "outputs": [],
   "source": []
  }
 ],
 "metadata": {
  "kernelspec": {
   "display_name": "Python 3",
   "language": "python",
   "name": "python3"
  },
  "language_info": {
   "codemirror_mode": {
    "name": "ipython",
    "version": 3
   },
   "file_extension": ".py",
   "mimetype": "text/x-python",
   "name": "python",
   "nbconvert_exporter": "python",
   "pygments_lexer": "ipython3",
   "version": "3.8.3"
  }
 },
 "nbformat": 4,
 "nbformat_minor": 4
}
